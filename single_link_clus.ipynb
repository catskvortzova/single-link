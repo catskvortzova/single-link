{
 "cells": [
  {
   "cell_type": "code",
   "execution_count": 96,
   "metadata": {},
   "outputs": [],
   "source": [
    "import random\n",
    "import math\n",
    "import numpy as np"
   ]
  },
  {
   "cell_type": "code",
   "execution_count": 97,
   "metadata": {},
   "outputs": [],
   "source": [
    "size_sample=30"
   ]
  },
  {
   "cell_type": "code",
   "execution_count": 98,
   "metadata": {},
   "outputs": [],
   "source": [
    "x=[113, 116,  83, 134,  49,  51, 128,  98,  62,  16, 137, 111, 119,\n",
    "         6,  44, 158,  94,  48,  54,   1, 139,  26, 151, 122,  79, 161,\n",
    "        53,  56, 170,  19]"
   ]
  },
  {
   "cell_type": "code",
   "execution_count": 99,
   "metadata": {},
   "outputs": [
    {
     "data": {
      "image/png": "[encoded data removed]",
      "text/plain": [
       "<Figure size 2160x360 with 1 Axes>"
      ]
     },
     "metadata": {
      "needs_background": "light"
     },
     "output_type": "display_data"
    }
   ],
   "source": [
    "import matplotlib.pyplot as plt\n",
    "fig=plt.figure(figsize=(30,5))\n",
    "plt.scatter(x=x,y=[0 for i in range(size_sample)],color='red',s=10)\n",
    "plt.show()"
   ]
  },
  {
   "cell_type": "code",
   "execution_count": 100,
   "metadata": {},
   "outputs": [],
   "source": [
    "clusters=[set([i]) for i in range(0,size_sample)]"
   ]
  },
  {
   "cell_type": "code",
   "execution_count": 101,
   "metadata": {},
   "outputs": [],
   "source": [
    "D = np.zeros((size_sample,size_sample))\n",
    "for i in range(0,len(x)):\n",
    "    for j in range(i+1,len(x)):\n",
    "        D[i][j]=abs(x[i]-x[j])\n",
    "        D[j][i]=D[i][j]"
   ]
  },
  {
   "cell_type": "code",
   "execution_count": 102,
   "metadata": {},
   "outputs": [
    {
     "name": "stdout",
     "output_type": "stream",
     "text": [
      "merge clusters: {4} {17} d = 1.0\n",
      "x first clusters: [49]\n",
      "x second clusters: [48] \n",
      "\n",
      "merge clusters: {18} {26} d = 1.0\n",
      "x first clusters: [54]\n",
      "x second clusters: [53] \n",
      "\n",
      "merge clusters: {0} {11} d = 2.0\n",
      "x first clusters: [113]\n",
      "x second clusters: [111] \n",
      "\n",
      "merge clusters: {17, 4} {5} d = 2.0\n",
      "x first clusters: [48, 49]\n",
      "x second clusters: [51] \n",
      "\n",
      "merge clusters: {17, 4, 5} {18, 26} d = 2.0\n",
      "x first clusters: [48, 49, 51]\n",
      "x second clusters: [54, 53] \n",
      "\n",
      "merge clusters: {17, 18, 4, 5, 26} {27} d = 2.0\n",
      "x first clusters: [48, 54, 49, 51, 53]\n",
      "x second clusters: [56] \n",
      "\n",
      "merge clusters: {10} {20} d = 2.0\n",
      "x first clusters: [137]\n",
      "x second clusters: [139] \n",
      "\n",
      "merge clusters: {0, 11} {1} d = 3.0\n",
      "x first clusters: [113, 111]\n",
      "x second clusters: [116] \n",
      "\n",
      "merge clusters: {0, 1, 11} {12} d = 3.0\n",
      "x first clusters: [113, 116, 111]\n",
      "x second clusters: [119] \n",
      "\n",
      "merge clusters: {0, 1, 11, 12} {23} d = 3.0\n",
      "x first clusters: [113, 116, 111, 119]\n",
      "x second clusters: [122] \n",
      "\n",
      "merge clusters: {3} {10, 20} d = 3.0\n",
      "x first clusters: [134]\n",
      "x second clusters: [137, 139] \n",
      "\n",
      "merge clusters: {9} {29} d = 3.0\n",
      "x first clusters: [16]\n",
      "x second clusters: [19] \n",
      "\n",
      "merge clusters: {15} {25} d = 3.0\n",
      "x first clusters: [158]\n",
      "x second clusters: [161] \n",
      "\n",
      "merge clusters: {2} {24} d = 4.0\n",
      "x first clusters: [83]\n",
      "x second clusters: [79] \n",
      "\n",
      "merge clusters: {17, 18, 4, 5, 26, 27} {14} d = 4.0\n",
      "x first clusters: [48, 54, 49, 51, 53, 56]\n",
      "x second clusters: [44] \n",
      "\n",
      "merge clusters: {7} {16} d = 4.0\n",
      "x first clusters: [98]\n",
      "x second clusters: [94] \n",
      "\n",
      "merge clusters: {13} {19} d = 5.0\n",
      "x first clusters: [6]\n",
      "x second clusters: [1] \n",
      "\n",
      "merge clusters: {0, 1, 23, 11, 12} {6} d = 6.0\n",
      "x first clusters: [113, 116, 122, 111, 119]\n",
      "x second clusters: [128] \n",
      "\n",
      "merge clusters: {0, 1, 6, 23, 11, 12} {10, 3, 20} d = 6.0\n",
      "x first clusters: [113, 116, 128, 122, 111, 119]\n",
      "x second clusters: [137, 134, 139] \n",
      "\n",
      "merge clusters: {17, 18, 4, 5, 26, 27, 14} {8} d = 6.0\n",
      "x first clusters: [48, 54, 49, 51, 53, 56, 44]\n",
      "x second clusters: [62] \n",
      "\n",
      "merge clusters: {9, 29} {21} d = 7.0\n",
      "x first clusters: [16, 19]\n",
      "x second clusters: [26] \n",
      "\n",
      "merge clusters: {25, 15} {22} d = 7.0\n",
      "x first clusters: [161, 158]\n",
      "x second clusters: [151] \n",
      "\n",
      "merge clusters: {25, 22, 15} {28} d = 9.0\n",
      "x first clusters: [161, 151, 158]\n",
      "x second clusters: [170] \n",
      "\n",
      "merge clusters: {9, 21, 29} {19, 13} d = 10.0\n",
      "x first clusters: [16, 26, 19]\n",
      "x second clusters: [1, 6] \n",
      "\n",
      "merge clusters: {24, 2} {16, 7} d = 11.0\n",
      "x first clusters: [79, 83]\n",
      "x second clusters: [94, 98] \n",
      "\n",
      "merge clusters: {0, 1, 3, 20, 6, 23, 10, 11, 12} {25, 28, 22, 15} d = 12.0\n",
      "x first clusters: [113, 116, 134, 139, 128, 122, 137, 111, 119]\n",
      "x second clusters: [161, 170, 151, 158] \n",
      "\n",
      "merge clusters: {0, 1, 3, 6, 10, 11, 12, 15, 20, 22, 23, 25, 28} {24, 16, 2, 7} d = 13.0\n",
      "x first clusters: [113, 116, 134, 128, 137, 111, 119, 158, 139, 151, 122, 161, 170]\n",
      "x second clusters: [79, 94, 83, 98] \n",
      "\n",
      "merge clusters: {0, 1, 2, 3, 6, 7, 10, 11, 12, 15, 16, 20, 22, 23, 24, 25, 28} {17, 18, 4, 5, 8, 26, 27, 14} d = 17.0\n",
      "x first clusters: [113, 116, 83, 134, 128, 98, 137, 111, 119, 158, 94, 139, 151, 122, 79, 161, 170]\n",
      "x second clusters: [48, 54, 49, 51, 62, 53, 56, 44] \n",
      "\n",
      "merge clusters: {0, 1, 2, 3, 4, 5, 6, 7, 8, 10, 11, 12, 14, 15, 16, 17, 18, 20, 22, 23, 24, 25, 26, 27, 28} {13, 19, 21, 9, 29} d = 18.0\n",
      "x first clusters: [113, 116, 83, 134, 49, 51, 128, 98, 62, 137, 111, 119, 44, 158, 94, 48, 54, 139, 151, 122, 79, 161, 53, 56, 170]\n",
      "x second clusters: [6, 1, 26, 16, 19] \n",
      "\n"
     ]
    }
   ],
   "source": [
    "while(len(clusters)!=1):\n",
    "    \n",
    "    v,u=1,0\n",
    "    min_d=D[v][u]\n",
    "    \n",
    "    for j in range(0,len(D)):\n",
    "        for i in range(j+1,len(D)):\n",
    "            if(min_d>D[i][j]):\n",
    "                v,u=i,j\n",
    "                min_d=D[i][j]\n",
    "        \n",
    "    print('merge clusters:',clusters[u],clusters[v],'d =',min_d)\n",
    "    \n",
    "    c1=list(clusters[u])\n",
    "    c2=list(clusters[v])\n",
    "    co=[x[i] for i in c1]\n",
    "    ct=[x[i] for i in c2]\n",
    "    \n",
    "    print('x first clusters:',co)\n",
    "    print('x second clusters:',ct,'\\n')\n",
    "    \n",
    "    clusters[u]=clusters[u].union(clusters[v])\n",
    "    for i in range(0,len(D)):\n",
    "        if(i!=u or i!= v):\n",
    "            D[u][i]=min(D[u][i],D[v][i])\n",
    "            D[i][u]=D[u][i]\n",
    "    D = np.delete(D, (v), axis=0)\n",
    "    D = np.delete(D, (v), axis=1)\n",
    "    clusters.pop(v)"
   ]
  },
  {
   "cell_type": "code",
   "execution_count": null,
   "metadata": {},
   "outputs": [],
   "source": []
  }
 ],
 "metadata": {
  "kernelspec": {
   "display_name": "Python 3",
   "language": "python",
   "name": "python3"
  },
  "language_info": {
   "codemirror_mode": {
    "name": "ipython",
    "version": 3
   },
   "file_extension": ".py",
   "mimetype": "text/x-python",
   "name": "python",
   "nbconvert_exporter": "python",
   "pygments_lexer": "ipython3",
   "version": "3.6.8"
  }
 },
 "nbformat": 4,
 "nbformat_minor": 2
}
