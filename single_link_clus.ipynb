{
 "cells": [
  {
   "cell_type": "code",
   "execution_count": 167,
   "metadata": {},
   "outputs": [],
   "source": [
    "import random\n",
    "import math\n",
    "import numpy as np"
   ]
  },
  {
   "cell_type": "code",
   "execution_count": 168,
   "metadata": {},
   "outputs": [
    {
     "data": {
      "text/plain": [
       "array([122,  76, 104, 109, 118, 136, 112,  40,  82,   2, 125, 146,  13,\n",
       "        89, 147,  17, 108,  74,  32,  40, 143,  45,  44,  79, 125, 110,\n",
       "       142,  94,  93,  27])"
      ]
     },
     "execution_count": 168,
     "metadata": {},
     "output_type": "execute_result"
    }
   ],
   "source": [
    "size_sample=30\n",
    "x = np.array([random.randint(0,size_sample*5) for i in range(size_sample)])\n",
    "x"
   ]
  },
  {
   "cell_type": "code",
   "execution_count": 169,
   "metadata": {},
   "outputs": [
    {
     "data": {
      "image/png": "[encoded data removed]",
      "text/plain": [
       "<Figure size 2160x360 with 1 Axes>"
      ]
     },
     "metadata": {
      "needs_background": "light"
     },
     "output_type": "display_data"
    }
   ],
   "source": [
    "import matplotlib.pyplot as plt\n",
    "fig=plt.figure(figsize=(30,5))\n",
    "plt.scatter(x=x,y=[0 for i in range(size_sample)],color='red',s=10)\n",
    "plt.show()"
   ]
  },
  {
   "cell_type": "code",
   "execution_count": 170,
   "metadata": {},
   "outputs": [
    {
     "data": {
      "text/plain": [
       "30"
      ]
     },
     "execution_count": 170,
     "metadata": {},
     "output_type": "execute_result"
    }
   ],
   "source": [
    "clusters=[set([i]) for i in range(0,size_sample)]\n",
    "len(clusters)"
   ]
  },
  {
   "cell_type": "code",
   "execution_count": 171,
   "metadata": {},
   "outputs": [],
   "source": [
    "D = np.zeros((size_sample,size_sample))\n",
    "for i in range(0,len(x)):\n",
    "    for j in range(i+1,len(x)):\n",
    "        D[j][i]=abs(x[i]-x[j])\n"
   ]
  },
  {
   "cell_type": "code",
   "execution_count": 172,
   "metadata": {},
   "outputs": [],
   "source": [
    "def d_s(R_u_s,R_v_s):\n",
    "    return float(0.5*(R_u_s+R_v_s+abs(R_u_s-R_v_s)))"
   ]
  },
  {
   "cell_type": "code",
   "execution_count": 173,
   "metadata": {},
   "outputs": [
    {
     "name": "stdout",
     "output_type": "stream",
     "text": [
      "{19} {7} d = 0.0\n",
      "{24} {10} d = 0.0\n",
      "{16} {3} d = 1.0\n",
      "{14} {11} d = 1.0\n",
      "{26} {20} d = 1.0\n",
      "{22} {21} d = 1.0\n",
      "{28} {27} d = 1.0\n",
      "{17} {1} d = 2.0\n",
      "{25} {6} d = 2.0\n",
      "{25, 6} {16, 3} d = 2.0\n",
      "{24, 10} {0} d = 3.0\n",
      "{23} {8} d = 3.0\n",
      "{15} {12} d = 4.0\n",
      "{27, 28} {13} d = 5.0\n",
      "{26, 20} {11, 14} d = 5.0\n",
      "{8, 23} {17, 1} d = 5.0\n",
      "{29} {18} d = 5.0\n",
      "{21, 22} {19, 7} d = 5.0\n",
      "{24, 0, 10} {4} d = 7.0\n",
      "{16, 25, 3, 6} {2} d = 8.0\n",
      "{24, 0, 10, 4} {5} d = 11.0\n",
      "{9} {12, 15} d = 15.0\n",
      "{18, 29} {19, 21, 22, 7} d = 18.0\n",
      "{27, 28, 13} {16, 2, 3, 6, 25} d = 19.0\n",
      "{26, 11, 20, 14} {0, 4, 5, 24, 10} d = 29.0\n",
      "{2, 3, 6, 13, 16, 25, 27, 28} {8, 17, 1, 23} d = 36.0\n",
      "{18, 19, 21, 22, 7, 29} {9, 12, 15} d = 43.0\n",
      "{0, 4, 5, 10, 11, 14, 20, 24, 26} {1, 2, 3, 6, 8, 13, 16, 17, 23, 25, 27, 28} d = 54.0\n",
      "{0, 1, 2, 3, 4, 5, 6, 8, 10, 11, 13, 14, 16, 17, 20, 23, 24, 25, 26, 27, 28} {18, 19, 21, 22, 7, 9, 12, 29, 15} d = 120.0\n"
     ]
    }
   ],
   "source": [
    "while(len(clusters)!=1):\n",
    "    v,u=0,1\n",
    "    min_d=D[u][v]\n",
    "    for i in range(0,len(D)):\n",
    "        for j in range(i+1,len(D)):\n",
    "            if(min_d>D[j][i]):\n",
    "                min_d=D[j][i]\n",
    "                v,u=j,i\n",
    "    print(clusters[v],clusters[u],'d =',min_d)\n",
    "    clusters[v]=clusters[v].union(clusters[u])\n",
    "    for i in range(0,v):\n",
    "        if(i!=v):\n",
    "            D[v][i]=d_s(D[v][i],D[u][i])\n",
    "    for i in range(v+1,len(D)):\n",
    "        if(i!=v):\n",
    "            D[i][v]=d_s(D[i][v],D[i][u])\n",
    "    D = np.delete(D, (u), axis=0)\n",
    "    D = np.delete(D, (u), axis=1)\n",
    "    clusters.pop(u)"
   ]
  },
  {
   "cell_type": "code",
   "execution_count": null,
   "metadata": {},
   "outputs": [],
   "source": []
  }
 ],
 "metadata": {
  "kernelspec": {
   "display_name": "Python 3",
   "language": "python",
   "name": "python3"
  },
  "language_info": {
   "codemirror_mode": {
    "name": "ipython",
    "version": 3
   },
   "file_extension": ".py",
   "mimetype": "text/x-python",
   "name": "python",
   "nbconvert_exporter": "python",
   "pygments_lexer": "ipython3",
   "version": "3.6.8"
  }
 },
 "nbformat": 4,
 "nbformat_minor": 2
}
